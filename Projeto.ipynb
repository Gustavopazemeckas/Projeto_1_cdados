{
 "cells": [
  {
   "cell_type": "markdown",
   "metadata": {},
   "source": [
    "# Projeto 1 - Ciência dos Dados"
   ]
  },
  {
   "cell_type": "markdown",
   "metadata": {},
   "source": [
    "Nome: Gustavo Rodrigues Pazemeckas"
   ]
  },
  {
   "cell_type": "markdown",
   "metadata": {},
   "source": [
    "## Pergunta: \"Países que entram na APEC aumentam significativamente a quantidade de importações e exportações?\""
   ]
  },
  {
   "cell_type": "markdown",
   "metadata": {},
   "source": [
    "## Hipótese: \"Países da APEC importam e exportam mais pois as taxas alfandegárias entre os países membros diminuem ou até são extintas, estimulando o comércio entre eles.\" No link abaixo mostra um pouco da história da organização e seus objetivos:\n",
    "### http://blocos-economicos.info/apec.html\n",
    "#### Neste trabalho irei comparar as importações e exportações dos países membros com alguns países que não estão na organização no período entre 1988 e 1997."
   ]
  },
  {
   "cell_type": "markdown",
   "metadata": {},
   "source": [
    "A APEC é um bloco econômico dos países que se encontram no pacífico e visa o livre comércio e a cooperação econômica entre os países membros, foi criada em 1989."
   ]
  },
  {
   "cell_type": "markdown",
   "metadata": {},
   "source": [
    "## Base de dados utilizada:"
   ]
  },
  {
   "cell_type": "markdown",
   "metadata": {},
   "source": [
    " Importação- https://data.worldbank.org/indicator/NE.IMP.GNFS.ZS e exportação- https://data.worldbank.org/indicator/NE.EXP.GNFS.ZS"
   ]
  },
  {
   "cell_type": "markdown",
   "metadata": {},
   "source": [
    "## Análise de dados"
   ]
  },
  {
   "cell_type": "code",
   "execution_count": 1,
   "metadata": {},
   "outputs": [],
   "source": [
    "%matplotlib inline\n",
    "import pandas as pd\n",
    "import matplotlib.pyplot as plt\n",
    "import os"
   ]
  },
  {
   "cell_type": "code",
   "execution_count": 5,
   "metadata": {},
   "outputs": [],
   "source": [
    "dados_imp = pd.read_excel(\"importacao.xlsx\")\n",
    "dados_exp = pd.read_excel(\"Export.xlsx\")"
   ]
  },
  {
   "cell_type": "code",
   "execution_count": 7,
   "metadata": {},
   "outputs": [],
   "source": [
    "dados=pd.crosstab(index=[dados_imp.country], columns=[dados_imp.APEC])\n"
   ]
  },
  {
   "cell_type": "markdown",
   "metadata": {},
   "source": [
    "## Tabela dos países membros da organização"
   ]
  },
  {
   "cell_type": "code",
   "execution_count": 8,
   "metadata": {},
   "outputs": [
    {
     "data": {
      "text/html": [
       "<div>\n",
       "<style scoped>\n",
       "    .dataframe tbody tr th:only-of-type {\n",
       "        vertical-align: middle;\n",
       "    }\n",
       "\n",
       "    .dataframe tbody tr th {\n",
       "        vertical-align: top;\n",
       "    }\n",
       "\n",
       "    .dataframe thead th {\n",
       "        text-align: right;\n",
       "    }\n",
       "</style>\n",
       "<table border=\"1\" class=\"dataframe\">\n",
       "  <thead>\n",
       "    <tr style=\"text-align: right;\">\n",
       "      <th></th>\n",
       "      <th>country</th>\n",
       "    </tr>\n",
       "  </thead>\n",
       "  <tbody>\n",
       "    <tr>\n",
       "      <th>7</th>\n",
       "      <td>Australia</td>\n",
       "    </tr>\n",
       "    <tr>\n",
       "      <th>23</th>\n",
       "      <td>Brunei</td>\n",
       "    </tr>\n",
       "    <tr>\n",
       "      <th>29</th>\n",
       "      <td>Canada</td>\n",
       "    </tr>\n",
       "    <tr>\n",
       "      <th>33</th>\n",
       "      <td>Chile</td>\n",
       "    </tr>\n",
       "    <tr>\n",
       "      <th>34</th>\n",
       "      <td>China</td>\n",
       "    </tr>\n",
       "    <tr>\n",
       "      <th>75</th>\n",
       "      <td>Indonesia</td>\n",
       "    </tr>\n",
       "    <tr>\n",
       "      <th>82</th>\n",
       "      <td>Japan</td>\n",
       "    </tr>\n",
       "    <tr>\n",
       "      <th>100</th>\n",
       "      <td>Malaysia</td>\n",
       "    </tr>\n",
       "    <tr>\n",
       "      <th>107</th>\n",
       "      <td>Mexico</td>\n",
       "    </tr>\n",
       "    <tr>\n",
       "      <th>119</th>\n",
       "      <td>New Zealand</td>\n",
       "    </tr>\n",
       "    <tr>\n",
       "      <th>129</th>\n",
       "      <td>Papua New Guinea</td>\n",
       "    </tr>\n",
       "    <tr>\n",
       "      <th>131</th>\n",
       "      <td>Peru</td>\n",
       "    </tr>\n",
       "    <tr>\n",
       "      <th>132</th>\n",
       "      <td>Philippines</td>\n",
       "    </tr>\n",
       "    <tr>\n",
       "      <th>137</th>\n",
       "      <td>Russia</td>\n",
       "    </tr>\n",
       "    <tr>\n",
       "      <th>145</th>\n",
       "      <td>Singapore</td>\n",
       "    </tr>\n",
       "    <tr>\n",
       "      <th>151</th>\n",
       "      <td>South Korea</td>\n",
       "    </tr>\n",
       "    <tr>\n",
       "      <th>165</th>\n",
       "      <td>Thailand</td>\n",
       "    </tr>\n",
       "    <tr>\n",
       "      <th>176</th>\n",
       "      <td>United States</td>\n",
       "    </tr>\n",
       "    <tr>\n",
       "      <th>181</th>\n",
       "      <td>Vietnam</td>\n",
       "    </tr>\n",
       "  </tbody>\n",
       "</table>\n",
       "</div>"
      ],
      "text/plain": [
       "              country\n",
       "7           Australia\n",
       "23             Brunei\n",
       "29             Canada\n",
       "33              Chile\n",
       "34              China\n",
       "75          Indonesia\n",
       "82              Japan\n",
       "100          Malaysia\n",
       "107            Mexico\n",
       "119       New Zealand\n",
       "129  Papua New Guinea\n",
       "131              Peru\n",
       "132       Philippines\n",
       "137            Russia\n",
       "145         Singapore\n",
       "151       South Korea\n",
       "165          Thailand\n",
       "176     United States\n",
       "181           Vietnam"
      ]
     },
     "execution_count": 8,
     "metadata": {},
     "output_type": "execute_result"
    }
   ],
   "source": [
    "APEC=dados_imp.loc[(dados_imp.APEC==1),['country']]\n",
    "APEC"
   ]
  },
  {
   "cell_type": "markdown",
   "metadata": {},
   "source": [
    "## Limpeza dos dados para ter apenas os países membros"
   ]
  },
  {
   "cell_type": "code",
   "execution_count": 9,
   "metadata": {},
   "outputs": [],
   "source": [
    "dados_apec_imp = dados_imp[(dados_imp.country=='Australia') | (dados_imp.country=='Brunei') | (dados_imp.country=='Canada') | (dados_imp.country=='Singapore') | (dados_imp.country=='Chile') | (dados_imp.country=='China') | (dados_imp.country=='South Korea') | (dados_imp.country=='United States') | (dados_imp.country=='Philippines') | (dados_imp.country=='Indonesia') | (dados_imp.country=='Japan') | (dados_imp.country=='Malaysia') | (dados_imp.country=='Mexico') | (dados_imp.country=='New Zealand') | (dados_imp.country=='Papua New Guinea') | (dados_imp.country=='Peru') | (dados_imp.country=='Russia') | (dados_imp.country=='Thailand') | (dados_imp.country=='Vietnam')]\n",
    "dados_apec_exp = dados_exp[(dados_exp.country=='Australia') | (dados_exp.country=='Brunei') | (dados_exp.country=='Canada') | (dados_exp.country=='Singapore') | (dados_exp.country=='Chile') | (dados_exp.country=='China') | (dados_exp.country=='South Korea') | (dados_exp.country=='United States') | (dados_exp.country=='Philippines') | (dados_exp.country=='Indonesia') | (dados_exp.country=='Japan') | (dados_exp.country=='Malaysia') | (dados_exp.country=='Mexico') | (dados_exp.country=='New Zealand') | (dados_exp.country=='Papua New Guinea') | (dados_exp.country=='Peru') | (dados_exp.country=='Russia') | (dados_exp.country=='Thailand') | (dados_exp.country=='Vietnam')]\n"
   ]
  },
  {
   "cell_type": "markdown",
   "metadata": {},
   "source": [
    "## Filtrando os anos"
   ]
  },
  {
   "cell_type": "markdown",
   "metadata": {},
   "source": [
    "Foi feito uma análise do ano de 1988 até 1997"
   ]
  },
  {
   "cell_type": "code",
   "execution_count": 10,
   "metadata": {},
   "outputs": [],
   "source": [
    "dados_apec_exp=dados_apec_exp.loc[:, ['country',1988,1989,1990,1991,1992,1993,1994,1995,1996,1997,'APEC']]\n",
    "dados_apec_imp=dados_apec_imp.loc[:, ['country',1988,1989,1990,1991,1992,1993,1994,1995,1996,1997,'APEC']]\n"
   ]
  },
  {
   "cell_type": "markdown",
   "metadata": {},
   "source": [
    "## Box Plots da importação e exportação dos países membros ao longo dos anos escolhidos"
   ]
  },
  {
   "cell_type": "code",
   "execution_count": 11,
   "metadata": {},
   "outputs": [
    {
     "data": {
      "text/plain": [
       "Text(0, 0.5, '% of GDP')"
      ]
     },
     "execution_count": 11,
     "metadata": {},
     "output_type": "execute_result"
    },
    {
     "data": {
      "image/png": "[encoded data removed]",
      "text/plain": [
       "<Figure size 432x288 with 1 Axes>"
      ]
     },
     "metadata": {
      "needs_background": "light"
     },
     "output_type": "display_data"
    },
    {
     "data": {
      "image/png": "[encoded data removed]",
      "text/plain": [
       "<Figure size 432x288 with 1 Axes>"
      ]
     },
     "metadata": {
      "needs_background": "light"
     },
     "output_type": "display_data"
    }
   ],
   "source": [
    "dados_apec_imp.plot.box()\n",
    "plt.title('Importação')\n",
    "plt.xlabel('Anos')\n",
    "plt.ylabel('% of GDP')\n",
    "\n",
    "dados_apec_exp.plot.box()\n",
    "plt.title('Exportação')\n",
    "plt.xlabel('Anos')\n",
    "plt.ylabel('% of GDP')"
   ]
  },
  {
   "cell_type": "markdown",
   "metadata": {},
   "source": [
    "Com esses box plots é possíver um crescimento da importação e exportação apartir do ano em que se foi criado o bloco(1989)"
   ]
  },
  {
   "cell_type": "markdown",
   "metadata": {},
   "source": [
    "## Gráficos de dispersão da importação pela exportação em 1988(antes de ser criado o bloco) e em 1995(alguns anos após a criação)"
   ]
  },
  {
   "cell_type": "code",
   "execution_count": 12,
   "metadata": {},
   "outputs": [
    {
     "data": {
      "image/png": "[encoded data removed]",
      "text/plain": [
       "<Figure size 432x288 with 1 Axes>"
      ]
     },
     "metadata": {
      "needs_background": "light"
     },
     "output_type": "display_data"
    },
    {
     "data": {
      "image/png": "[encoded data removed]",
      "text/plain": [
       "<Figure size 432x288 with 1 Axes>"
      ]
     },
     "metadata": {
      "needs_background": "light"
     },
     "output_type": "display_data"
    }
   ],
   "source": [
    "dados_apec_imp1988 = dados_apec_imp.loc[:,[1988]]\n",
    "dados_apec_exp1988 = dados_apec_exp.loc[:,[1988]]\n",
    "dados1988=dados_apec_imp1988.join(dados_apec_exp1988, how='inner', lsuffix='_imp', rsuffix='_exp')\n",
    "\n",
    "\n",
    "dados_apec_imp1995 = dados_apec_imp.loc[:,[1995]]\n",
    "dados_apec_exp1995 = dados_apec_exp.loc[:,[1995]]\n",
    "dados1995=dados_apec_imp1995.join(dados_apec_exp1995, how='inner', lsuffix='_imp', rsuffix='_exp')\n",
    "\n",
    "dados1988.plot.scatter(x = '1988_imp' ,y = '1988_exp' )\n",
    "plt.grid(True)\n",
    "dados1995.plot.scatter(x ='1995_imp', y = '1995_exp')\n",
    "plt.grid(True)"
   ]
  },
  {
   "cell_type": "markdown",
   "metadata": {},
   "source": [
    "Pode-se ver um crescimento das importações e exportações nesse intervalo de tempo"
   ]
  },
  {
   "cell_type": "markdown",
   "metadata": {},
   "source": [
    "## Box plot da importação e exportação em 1988 e em 1995"
   ]
  },
  {
   "cell_type": "code",
   "execution_count": 14,
   "metadata": {},
   "outputs": [
    {
     "data": {
      "text/plain": [
       "<matplotlib.axes._subplots.AxesSubplot at 0x17b09af14a8>"
      ]
     },
     "execution_count": 14,
     "metadata": {},
     "output_type": "execute_result"
    },
    {
     "data": {
      "image/png": "[encoded data removed]",
      "text/plain": [
       "<Figure size 432x288 with 1 Axes>"
      ]
     },
     "metadata": {
      "needs_background": "light"
     },
     "output_type": "display_data"
    },
    {
     "data": {
      "image/png": "[encoded data removed]",
      "text/plain": [
       "<Figure size 432x288 with 1 Axes>"
      ]
     },
     "metadata": {
      "needs_background": "light"
     },
     "output_type": "display_data"
    }
   ],
   "source": [
    "dados1988.plot.box()\n",
    "dados1995.plot.box()"
   ]
  },
  {
   "cell_type": "markdown",
   "metadata": {},
   "source": [
    "Pode-se ver um crescimento das importações e exportações nesse intervalo de tempo"
   ]
  },
  {
   "cell_type": "markdown",
   "metadata": {},
   "source": [
    "## Adicionando um novo DataFrame comparativo entre os países que estão na APEC e 2 países que não estão"
   ]
  },
  {
   "cell_type": "code",
   "execution_count": 15,
   "metadata": {},
   "outputs": [
    {
     "data": {
      "text/html": [
       "<div>\n",
       "<style scoped>\n",
       "    .dataframe tbody tr th:only-of-type {\n",
       "        vertical-align: middle;\n",
       "    }\n",
       "\n",
       "    .dataframe tbody tr th {\n",
       "        vertical-align: top;\n",
       "    }\n",
       "\n",
       "    .dataframe thead th {\n",
       "        text-align: right;\n",
       "    }\n",
       "</style>\n",
       "<table border=\"1\" class=\"dataframe\">\n",
       "  <thead>\n",
       "    <tr style=\"text-align: right;\">\n",
       "      <th></th>\n",
       "      <th>country</th>\n",
       "      <th>1988</th>\n",
       "      <th>1989</th>\n",
       "      <th>1990</th>\n",
       "      <th>1991</th>\n",
       "      <th>1992</th>\n",
       "      <th>1993</th>\n",
       "      <th>1994</th>\n",
       "      <th>1995</th>\n",
       "      <th>1996</th>\n",
       "      <th>1997</th>\n",
       "      <th>APEC</th>\n",
       "    </tr>\n",
       "  </thead>\n",
       "  <tbody>\n",
       "    <tr>\n",
       "      <th>7</th>\n",
       "      <td>Australia</td>\n",
       "      <td>16.60</td>\n",
       "      <td>17.00</td>\n",
       "      <td>17.10</td>\n",
       "      <td>16.20</td>\n",
       "      <td>16.40</td>\n",
       "      <td>17.90</td>\n",
       "      <td>18.5</td>\n",
       "      <td>19.90</td>\n",
       "      <td>19.40</td>\n",
       "      <td>18.90</td>\n",
       "      <td>1</td>\n",
       "    </tr>\n",
       "    <tr>\n",
       "      <th>23</th>\n",
       "      <td>Brunei</td>\n",
       "      <td>NaN</td>\n",
       "      <td>35.20</td>\n",
       "      <td>37.30</td>\n",
       "      <td>40.20</td>\n",
       "      <td>47.90</td>\n",
       "      <td>51.80</td>\n",
       "      <td>48.4</td>\n",
       "      <td>55.80</td>\n",
       "      <td>60.60</td>\n",
       "      <td>58.50</td>\n",
       "      <td>1</td>\n",
       "    </tr>\n",
       "    <tr>\n",
       "      <th>29</th>\n",
       "      <td>Canada</td>\n",
       "      <td>25.30</td>\n",
       "      <td>25.00</td>\n",
       "      <td>24.90</td>\n",
       "      <td>24.90</td>\n",
       "      <td>26.50</td>\n",
       "      <td>29.10</td>\n",
       "      <td>31.6</td>\n",
       "      <td>33.00</td>\n",
       "      <td>33.20</td>\n",
       "      <td>36.20</td>\n",
       "      <td>1</td>\n",
       "    </tr>\n",
       "    <tr>\n",
       "      <th>33</th>\n",
       "      <td>Chile</td>\n",
       "      <td>26.00</td>\n",
       "      <td>29.30</td>\n",
       "      <td>29.30</td>\n",
       "      <td>26.80</td>\n",
       "      <td>27.30</td>\n",
       "      <td>27.70</td>\n",
       "      <td>25.8</td>\n",
       "      <td>26.30</td>\n",
       "      <td>28.10</td>\n",
       "      <td>28.50</td>\n",
       "      <td>1</td>\n",
       "    </tr>\n",
       "    <tr>\n",
       "      <th>34</th>\n",
       "      <td>China</td>\n",
       "      <td>15.70</td>\n",
       "      <td>13.30</td>\n",
       "      <td>10.70</td>\n",
       "      <td>11.50</td>\n",
       "      <td>14.50</td>\n",
       "      <td>19.40</td>\n",
       "      <td>17.2</td>\n",
       "      <td>16.30</td>\n",
       "      <td>15.90</td>\n",
       "      <td>15.00</td>\n",
       "      <td>1</td>\n",
       "    </tr>\n",
       "    <tr>\n",
       "      <th>35</th>\n",
       "      <td>Colombia</td>\n",
       "      <td>13.90</td>\n",
       "      <td>13.80</td>\n",
       "      <td>14.80</td>\n",
       "      <td>13.90</td>\n",
       "      <td>15.80</td>\n",
       "      <td>18.80</td>\n",
       "      <td>20.9</td>\n",
       "      <td>21.00</td>\n",
       "      <td>20.80</td>\n",
       "      <td>20.80</td>\n",
       "      <td>0</td>\n",
       "    </tr>\n",
       "    <tr>\n",
       "      <th>49</th>\n",
       "      <td>Ecuador</td>\n",
       "      <td>23.70</td>\n",
       "      <td>24.80</td>\n",
       "      <td>21.80</td>\n",
       "      <td>21.50</td>\n",
       "      <td>20.70</td>\n",
       "      <td>23.10</td>\n",
       "      <td>23.5</td>\n",
       "      <td>24.60</td>\n",
       "      <td>21.90</td>\n",
       "      <td>23.50</td>\n",
       "      <td>0</td>\n",
       "    </tr>\n",
       "    <tr>\n",
       "      <th>75</th>\n",
       "      <td>Indonesia</td>\n",
       "      <td>22.20</td>\n",
       "      <td>23.00</td>\n",
       "      <td>25.60</td>\n",
       "      <td>26.50</td>\n",
       "      <td>27.10</td>\n",
       "      <td>23.80</td>\n",
       "      <td>25.4</td>\n",
       "      <td>27.60</td>\n",
       "      <td>26.40</td>\n",
       "      <td>28.10</td>\n",
       "      <td>1</td>\n",
       "    </tr>\n",
       "    <tr>\n",
       "      <th>82</th>\n",
       "      <td>Japan</td>\n",
       "      <td>7.61</td>\n",
       "      <td>8.76</td>\n",
       "      <td>9.44</td>\n",
       "      <td>8.29</td>\n",
       "      <td>7.64</td>\n",
       "      <td>6.94</td>\n",
       "      <td>7.1</td>\n",
       "      <td>7.71</td>\n",
       "      <td>9.05</td>\n",
       "      <td>9.49</td>\n",
       "      <td>1</td>\n",
       "    </tr>\n",
       "    <tr>\n",
       "      <th>100</th>\n",
       "      <td>Malaysia</td>\n",
       "      <td>56.20</td>\n",
       "      <td>65.30</td>\n",
       "      <td>72.40</td>\n",
       "      <td>81.50</td>\n",
       "      <td>74.60</td>\n",
       "      <td>79.00</td>\n",
       "      <td>90.8</td>\n",
       "      <td>98.00</td>\n",
       "      <td>90.20</td>\n",
       "      <td>92.40</td>\n",
       "      <td>1</td>\n",
       "    </tr>\n",
       "    <tr>\n",
       "      <th>107</th>\n",
       "      <td>Mexico</td>\n",
       "      <td>18.50</td>\n",
       "      <td>19.10</td>\n",
       "      <td>19.70</td>\n",
       "      <td>19.30</td>\n",
       "      <td>20.30</td>\n",
       "      <td>15.50</td>\n",
       "      <td>17.3</td>\n",
       "      <td>22.20</td>\n",
       "      <td>24.40</td>\n",
       "      <td>24.40</td>\n",
       "      <td>1</td>\n",
       "    </tr>\n",
       "    <tr>\n",
       "      <th>119</th>\n",
       "      <td>New Zealand</td>\n",
       "      <td>22.10</td>\n",
       "      <td>25.50</td>\n",
       "      <td>25.80</td>\n",
       "      <td>25.50</td>\n",
       "      <td>28.10</td>\n",
       "      <td>27.00</td>\n",
       "      <td>28.1</td>\n",
       "      <td>27.50</td>\n",
       "      <td>26.80</td>\n",
       "      <td>26.90</td>\n",
       "      <td>1</td>\n",
       "    </tr>\n",
       "    <tr>\n",
       "      <th>129</th>\n",
       "      <td>Papua New Guinea</td>\n",
       "      <td>51.90</td>\n",
       "      <td>52.70</td>\n",
       "      <td>48.90</td>\n",
       "      <td>52.20</td>\n",
       "      <td>45.70</td>\n",
       "      <td>36.90</td>\n",
       "      <td>39.8</td>\n",
       "      <td>43.70</td>\n",
       "      <td>48.40</td>\n",
       "      <td>50.10</td>\n",
       "      <td>1</td>\n",
       "    </tr>\n",
       "    <tr>\n",
       "      <th>131</th>\n",
       "      <td>Peru</td>\n",
       "      <td>18.10</td>\n",
       "      <td>11.20</td>\n",
       "      <td>13.80</td>\n",
       "      <td>14.30</td>\n",
       "      <td>15.40</td>\n",
       "      <td>16.20</td>\n",
       "      <td>16.2</td>\n",
       "      <td>18.30</td>\n",
       "      <td>18.30</td>\n",
       "      <td>19.00</td>\n",
       "      <td>1</td>\n",
       "    </tr>\n",
       "    <tr>\n",
       "      <th>132</th>\n",
       "      <td>Philippines</td>\n",
       "      <td>26.90</td>\n",
       "      <td>30.30</td>\n",
       "      <td>33.30</td>\n",
       "      <td>32.60</td>\n",
       "      <td>34.00</td>\n",
       "      <td>39.80</td>\n",
       "      <td>40.1</td>\n",
       "      <td>44.20</td>\n",
       "      <td>49.30</td>\n",
       "      <td>59.30</td>\n",
       "      <td>1</td>\n",
       "    </tr>\n",
       "    <tr>\n",
       "      <th>137</th>\n",
       "      <td>Russia</td>\n",
       "      <td>NaN</td>\n",
       "      <td>21.00</td>\n",
       "      <td>17.90</td>\n",
       "      <td>13.00</td>\n",
       "      <td>48.30</td>\n",
       "      <td>30.50</td>\n",
       "      <td>23.2</td>\n",
       "      <td>25.90</td>\n",
       "      <td>21.80</td>\n",
       "      <td>22.50</td>\n",
       "      <td>1</td>\n",
       "    </tr>\n",
       "    <tr>\n",
       "      <th>145</th>\n",
       "      <td>Singapore</td>\n",
       "      <td>175.00</td>\n",
       "      <td>169.00</td>\n",
       "      <td>167.00</td>\n",
       "      <td>155.00</td>\n",
       "      <td>150.00</td>\n",
       "      <td>152.00</td>\n",
       "      <td>150.0</td>\n",
       "      <td>165.00</td>\n",
       "      <td>160.00</td>\n",
       "      <td>155.00</td>\n",
       "      <td>1</td>\n",
       "    </tr>\n",
       "    <tr>\n",
       "      <th>151</th>\n",
       "      <td>South Korea</td>\n",
       "      <td>26.40</td>\n",
       "      <td>25.70</td>\n",
       "      <td>25.90</td>\n",
       "      <td>26.20</td>\n",
       "      <td>24.90</td>\n",
       "      <td>23.50</td>\n",
       "      <td>24.6</td>\n",
       "      <td>26.90</td>\n",
       "      <td>28.20</td>\n",
       "      <td>29.70</td>\n",
       "      <td>1</td>\n",
       "    </tr>\n",
       "    <tr>\n",
       "      <th>165</th>\n",
       "      <td>Thailand</td>\n",
       "      <td>34.40</td>\n",
       "      <td>37.50</td>\n",
       "      <td>41.70</td>\n",
       "      <td>42.50</td>\n",
       "      <td>41.00</td>\n",
       "      <td>40.90</td>\n",
       "      <td>43.0</td>\n",
       "      <td>48.20</td>\n",
       "      <td>45.30</td>\n",
       "      <td>46.80</td>\n",
       "      <td>1</td>\n",
       "    </tr>\n",
       "    <tr>\n",
       "      <th>176</th>\n",
       "      <td>United States</td>\n",
       "      <td>10.50</td>\n",
       "      <td>10.40</td>\n",
       "      <td>10.50</td>\n",
       "      <td>10.10</td>\n",
       "      <td>10.20</td>\n",
       "      <td>10.50</td>\n",
       "      <td>11.1</td>\n",
       "      <td>11.80</td>\n",
       "      <td>11.90</td>\n",
       "      <td>12.30</td>\n",
       "      <td>1</td>\n",
       "    </tr>\n",
       "    <tr>\n",
       "      <th>181</th>\n",
       "      <td>Vietnam</td>\n",
       "      <td>15.00</td>\n",
       "      <td>34.10</td>\n",
       "      <td>45.30</td>\n",
       "      <td>36.00</td>\n",
       "      <td>38.80</td>\n",
       "      <td>37.50</td>\n",
       "      <td>43.5</td>\n",
       "      <td>41.90</td>\n",
       "      <td>51.80</td>\n",
       "      <td>51.20</td>\n",
       "      <td>1</td>\n",
       "    </tr>\n",
       "  </tbody>\n",
       "</table>\n",
       "</div>"
      ],
      "text/plain": [
       "              country    1988    1989    1990    1991    1992    1993   1994  \\\n",
       "7           Australia   16.60   17.00   17.10   16.20   16.40   17.90   18.5   \n",
       "23             Brunei     NaN   35.20   37.30   40.20   47.90   51.80   48.4   \n",
       "29             Canada   25.30   25.00   24.90   24.90   26.50   29.10   31.6   \n",
       "33              Chile   26.00   29.30   29.30   26.80   27.30   27.70   25.8   \n",
       "34              China   15.70   13.30   10.70   11.50   14.50   19.40   17.2   \n",
       "35           Colombia   13.90   13.80   14.80   13.90   15.80   18.80   20.9   \n",
       "49            Ecuador   23.70   24.80   21.80   21.50   20.70   23.10   23.5   \n",
       "75          Indonesia   22.20   23.00   25.60   26.50   27.10   23.80   25.4   \n",
       "82              Japan    7.61    8.76    9.44    8.29    7.64    6.94    7.1   \n",
       "100          Malaysia   56.20   65.30   72.40   81.50   74.60   79.00   90.8   \n",
       "107            Mexico   18.50   19.10   19.70   19.30   20.30   15.50   17.3   \n",
       "119       New Zealand   22.10   25.50   25.80   25.50   28.10   27.00   28.1   \n",
       "129  Papua New Guinea   51.90   52.70   48.90   52.20   45.70   36.90   39.8   \n",
       "131              Peru   18.10   11.20   13.80   14.30   15.40   16.20   16.2   \n",
       "132       Philippines   26.90   30.30   33.30   32.60   34.00   39.80   40.1   \n",
       "137            Russia     NaN   21.00   17.90   13.00   48.30   30.50   23.2   \n",
       "145         Singapore  175.00  169.00  167.00  155.00  150.00  152.00  150.0   \n",
       "151       South Korea   26.40   25.70   25.90   26.20   24.90   23.50   24.6   \n",
       "165          Thailand   34.40   37.50   41.70   42.50   41.00   40.90   43.0   \n",
       "176     United States   10.50   10.40   10.50   10.10   10.20   10.50   11.1   \n",
       "181           Vietnam   15.00   34.10   45.30   36.00   38.80   37.50   43.5   \n",
       "\n",
       "       1995    1996    1997  APEC  \n",
       "7     19.90   19.40   18.90     1  \n",
       "23    55.80   60.60   58.50     1  \n",
       "29    33.00   33.20   36.20     1  \n",
       "33    26.30   28.10   28.50     1  \n",
       "34    16.30   15.90   15.00     1  \n",
       "35    21.00   20.80   20.80     0  \n",
       "49    24.60   21.90   23.50     0  \n",
       "75    27.60   26.40   28.10     1  \n",
       "82     7.71    9.05    9.49     1  \n",
       "100   98.00   90.20   92.40     1  \n",
       "107   22.20   24.40   24.40     1  \n",
       "119   27.50   26.80   26.90     1  \n",
       "129   43.70   48.40   50.10     1  \n",
       "131   18.30   18.30   19.00     1  \n",
       "132   44.20   49.30   59.30     1  \n",
       "137   25.90   21.80   22.50     1  \n",
       "145  165.00  160.00  155.00     1  \n",
       "151   26.90   28.20   29.70     1  \n",
       "165   48.20   45.30   46.80     1  \n",
       "176   11.80   11.90   12.30     1  \n",
       "181   41.90   51.80   51.20     1  "
      ]
     },
     "execution_count": 15,
     "metadata": {},
     "output_type": "execute_result"
    }
   ],
   "source": [
    "dados_comparativos_imp=dados_imp[(dados_imp.APEC==1) | (dados_imp.country=='Colombia') | (dados_imp.country=='Ecuador')]\n",
    "dados_comparativos_imp.loc[:,['country',1988,1989,1990,1991,1992,1993,1994,1995,1996,1997,'APEC']]\n"
   ]
  },
  {
   "cell_type": "markdown",
   "metadata": {},
   "source": [
    "## Filtrando para comparar dois países que estão dentro com dois de fora"
   ]
  },
  {
   "cell_type": "markdown",
   "metadata": {},
   "source": [
    "### Importação"
   ]
  },
  {
   "cell_type": "code",
   "execution_count": 17,
   "metadata": {},
   "outputs": [
    {
     "data": {
      "text/html": [
       "<div>\n",
       "<style scoped>\n",
       "    .dataframe tbody tr th:only-of-type {\n",
       "        vertical-align: middle;\n",
       "    }\n",
       "\n",
       "    .dataframe tbody tr th {\n",
       "        vertical-align: top;\n",
       "    }\n",
       "\n",
       "    .dataframe thead th {\n",
       "        text-align: right;\n",
       "    }\n",
       "</style>\n",
       "<table border=\"1\" class=\"dataframe\">\n",
       "  <thead>\n",
       "    <tr style=\"text-align: right;\">\n",
       "      <th></th>\n",
       "      <th>country</th>\n",
       "      <th>1988</th>\n",
       "      <th>1989</th>\n",
       "      <th>1990</th>\n",
       "      <th>1991</th>\n",
       "      <th>1992</th>\n",
       "      <th>1993</th>\n",
       "      <th>1994</th>\n",
       "      <th>1995</th>\n",
       "      <th>1996</th>\n",
       "      <th>1997</th>\n",
       "      <th>APEC</th>\n",
       "    </tr>\n",
       "  </thead>\n",
       "  <tbody>\n",
       "    <tr>\n",
       "      <th>35</th>\n",
       "      <td>Colombia</td>\n",
       "      <td>13.9</td>\n",
       "      <td>13.8</td>\n",
       "      <td>14.8</td>\n",
       "      <td>13.9</td>\n",
       "      <td>15.8</td>\n",
       "      <td>18.8</td>\n",
       "      <td>20.9</td>\n",
       "      <td>21.0</td>\n",
       "      <td>20.8</td>\n",
       "      <td>20.8</td>\n",
       "      <td>0</td>\n",
       "    </tr>\n",
       "    <tr>\n",
       "      <th>49</th>\n",
       "      <td>Ecuador</td>\n",
       "      <td>23.7</td>\n",
       "      <td>24.8</td>\n",
       "      <td>21.8</td>\n",
       "      <td>21.5</td>\n",
       "      <td>20.7</td>\n",
       "      <td>23.1</td>\n",
       "      <td>23.5</td>\n",
       "      <td>24.6</td>\n",
       "      <td>21.9</td>\n",
       "      <td>23.5</td>\n",
       "      <td>0</td>\n",
       "    </tr>\n",
       "    <tr>\n",
       "      <th>119</th>\n",
       "      <td>New Zealand</td>\n",
       "      <td>22.1</td>\n",
       "      <td>25.5</td>\n",
       "      <td>25.8</td>\n",
       "      <td>25.5</td>\n",
       "      <td>28.1</td>\n",
       "      <td>27.0</td>\n",
       "      <td>28.1</td>\n",
       "      <td>27.5</td>\n",
       "      <td>26.8</td>\n",
       "      <td>26.9</td>\n",
       "      <td>1</td>\n",
       "    </tr>\n",
       "    <tr>\n",
       "      <th>132</th>\n",
       "      <td>Philippines</td>\n",
       "      <td>26.9</td>\n",
       "      <td>30.3</td>\n",
       "      <td>33.3</td>\n",
       "      <td>32.6</td>\n",
       "      <td>34.0</td>\n",
       "      <td>39.8</td>\n",
       "      <td>40.1</td>\n",
       "      <td>44.2</td>\n",
       "      <td>49.3</td>\n",
       "      <td>59.3</td>\n",
       "      <td>1</td>\n",
       "    </tr>\n",
       "  </tbody>\n",
       "</table>\n",
       "</div>"
      ],
      "text/plain": [
       "         country  1988  1989  1990  1991  1992  1993  1994  1995  1996  1997  \\\n",
       "35      Colombia  13.9  13.8  14.8  13.9  15.8  18.8  20.9  21.0  20.8  20.8   \n",
       "49       Ecuador  23.7  24.8  21.8  21.5  20.7  23.1  23.5  24.6  21.9  23.5   \n",
       "119  New Zealand  22.1  25.5  25.8  25.5  28.1  27.0  28.1  27.5  26.8  26.9   \n",
       "132  Philippines  26.9  30.3  33.3  32.6  34.0  39.8  40.1  44.2  49.3  59.3   \n",
       "\n",
       "     APEC  \n",
       "35      0  \n",
       "49      0  \n",
       "119     1  \n",
       "132     1  "
      ]
     },
     "execution_count": 17,
     "metadata": {},
     "output_type": "execute_result"
    }
   ],
   "source": [
    "dados_comparativos_imp2=dados_comparativos_imp.loc[(dados_comparativos_imp.country=='Colombia') | (dados_comparativos_imp.country=='Ecuador') | (dados_comparativos_imp.country=='New Zealand') | (dados_comparativos_imp.country=='Philippines') , ['country',1988,1989,1990,1991,1992,1993,1994,1995,1996,1997,'APEC']]\n",
    "dados_comparativos_imp2\n"
   ]
  },
  {
   "cell_type": "markdown",
   "metadata": {},
   "source": [
    "#### Retirnado a coluna da APEC"
   ]
  },
  {
   "cell_type": "code",
   "execution_count": 22,
   "metadata": {},
   "outputs": [
    {
     "data": {
      "text/html": [
       "<div>\n",
       "<style scoped>\n",
       "    .dataframe tbody tr th:only-of-type {\n",
       "        vertical-align: middle;\n",
       "    }\n",
       "\n",
       "    .dataframe tbody tr th {\n",
       "        vertical-align: top;\n",
       "    }\n",
       "\n",
       "    .dataframe thead th {\n",
       "        text-align: right;\n",
       "    }\n",
       "</style>\n",
       "<table border=\"1\" class=\"dataframe\">\n",
       "  <thead>\n",
       "    <tr style=\"text-align: right;\">\n",
       "      <th></th>\n",
       "      <th>country</th>\n",
       "      <th>1988</th>\n",
       "      <th>1989</th>\n",
       "      <th>1990</th>\n",
       "      <th>1991</th>\n",
       "      <th>1992</th>\n",
       "      <th>1993</th>\n",
       "      <th>1994</th>\n",
       "      <th>1995</th>\n",
       "      <th>1996</th>\n",
       "      <th>1997</th>\n",
       "    </tr>\n",
       "  </thead>\n",
       "  <tbody>\n",
       "    <tr>\n",
       "      <th>35</th>\n",
       "      <td>Colombia</td>\n",
       "      <td>13.9</td>\n",
       "      <td>13.8</td>\n",
       "      <td>14.8</td>\n",
       "      <td>13.9</td>\n",
       "      <td>15.8</td>\n",
       "      <td>18.8</td>\n",
       "      <td>20.9</td>\n",
       "      <td>21.0</td>\n",
       "      <td>20.8</td>\n",
       "      <td>20.8</td>\n",
       "    </tr>\n",
       "    <tr>\n",
       "      <th>49</th>\n",
       "      <td>Ecuador</td>\n",
       "      <td>23.7</td>\n",
       "      <td>24.8</td>\n",
       "      <td>21.8</td>\n",
       "      <td>21.5</td>\n",
       "      <td>20.7</td>\n",
       "      <td>23.1</td>\n",
       "      <td>23.5</td>\n",
       "      <td>24.6</td>\n",
       "      <td>21.9</td>\n",
       "      <td>23.5</td>\n",
       "    </tr>\n",
       "    <tr>\n",
       "      <th>119</th>\n",
       "      <td>New Zealand</td>\n",
       "      <td>22.1</td>\n",
       "      <td>25.5</td>\n",
       "      <td>25.8</td>\n",
       "      <td>25.5</td>\n",
       "      <td>28.1</td>\n",
       "      <td>27.0</td>\n",
       "      <td>28.1</td>\n",
       "      <td>27.5</td>\n",
       "      <td>26.8</td>\n",
       "      <td>26.9</td>\n",
       "    </tr>\n",
       "    <tr>\n",
       "      <th>132</th>\n",
       "      <td>Philippines</td>\n",
       "      <td>26.9</td>\n",
       "      <td>30.3</td>\n",
       "      <td>33.3</td>\n",
       "      <td>32.6</td>\n",
       "      <td>34.0</td>\n",
       "      <td>39.8</td>\n",
       "      <td>40.1</td>\n",
       "      <td>44.2</td>\n",
       "      <td>49.3</td>\n",
       "      <td>59.3</td>\n",
       "    </tr>\n",
       "  </tbody>\n",
       "</table>\n",
       "</div>"
      ],
      "text/plain": [
       "         country  1988  1989  1990  1991  1992  1993  1994  1995  1996  1997\n",
       "35      Colombia  13.9  13.8  14.8  13.9  15.8  18.8  20.9  21.0  20.8  20.8\n",
       "49       Ecuador  23.7  24.8  21.8  21.5  20.7  23.1  23.5  24.6  21.9  23.5\n",
       "119  New Zealand  22.1  25.5  25.8  25.5  28.1  27.0  28.1  27.5  26.8  26.9\n",
       "132  Philippines  26.9  30.3  33.3  32.6  34.0  39.8  40.1  44.2  49.3  59.3"
      ]
     },
     "execution_count": 22,
     "metadata": {},
     "output_type": "execute_result"
    }
   ],
   "source": [
    "dados_comparativos_imp2=dados_comparativos_imp.loc[(dados_comparativos_imp.country=='Colombia') | (dados_comparativos_imp.country=='Ecuador') | (dados_comparativos_imp.country=='New Zealand') | (dados_comparativos_imp.country=='Philippines') , ['country',1988,1989,1990,1991,1992,1993,1994,1995,1996,1997]]\n",
    "dados_comparativos_imp2"
   ]
  },
  {
   "cell_type": "markdown",
   "metadata": {},
   "source": [
    "### Exportação"
   ]
  },
  {
   "cell_type": "code",
   "execution_count": 18,
   "metadata": {},
   "outputs": [
    {
     "data": {
      "text/html": [
       "<div>\n",
       "<style scoped>\n",
       "    .dataframe tbody tr th:only-of-type {\n",
       "        vertical-align: middle;\n",
       "    }\n",
       "\n",
       "    .dataframe tbody tr th {\n",
       "        vertical-align: top;\n",
       "    }\n",
       "\n",
       "    .dataframe thead th {\n",
       "        text-align: right;\n",
       "    }\n",
       "</style>\n",
       "<table border=\"1\" class=\"dataframe\">\n",
       "  <thead>\n",
       "    <tr style=\"text-align: right;\">\n",
       "      <th></th>\n",
       "      <th>country</th>\n",
       "      <th>1988</th>\n",
       "      <th>1989</th>\n",
       "      <th>1990</th>\n",
       "      <th>1991</th>\n",
       "      <th>1992</th>\n",
       "      <th>1993</th>\n",
       "      <th>1994</th>\n",
       "      <th>1995</th>\n",
       "      <th>1996</th>\n",
       "      <th>1997</th>\n",
       "      <th>APEC</th>\n",
       "    </tr>\n",
       "  </thead>\n",
       "  <tbody>\n",
       "    <tr>\n",
       "      <th>35</th>\n",
       "      <td>Colombia</td>\n",
       "      <td>16.3</td>\n",
       "      <td>18.0</td>\n",
       "      <td>20.6</td>\n",
       "      <td>21.3</td>\n",
       "      <td>17.7</td>\n",
       "      <td>16.4</td>\n",
       "      <td>15.0</td>\n",
       "      <td>14.5</td>\n",
       "      <td>15.2</td>\n",
       "      <td>14.8</td>\n",
       "      <td>0</td>\n",
       "    </tr>\n",
       "    <tr>\n",
       "      <th>49</th>\n",
       "      <td>Ecuador</td>\n",
       "      <td>19.0</td>\n",
       "      <td>20.3</td>\n",
       "      <td>22.8</td>\n",
       "      <td>23.7</td>\n",
       "      <td>24.1</td>\n",
       "      <td>20.0</td>\n",
       "      <td>20.3</td>\n",
       "      <td>21.3</td>\n",
       "      <td>22.3</td>\n",
       "      <td>21.5</td>\n",
       "      <td>0</td>\n",
       "    </tr>\n",
       "    <tr>\n",
       "      <th>119</th>\n",
       "      <td>New Zealand</td>\n",
       "      <td>26.0</td>\n",
       "      <td>26.2</td>\n",
       "      <td>26.7</td>\n",
       "      <td>29.2</td>\n",
       "      <td>31.2</td>\n",
       "      <td>30.6</td>\n",
       "      <td>30.9</td>\n",
       "      <td>29.4</td>\n",
       "      <td>28.3</td>\n",
       "      <td>28.3</td>\n",
       "      <td>1</td>\n",
       "    </tr>\n",
       "    <tr>\n",
       "      <th>132</th>\n",
       "      <td>Philippines</td>\n",
       "      <td>28.4</td>\n",
       "      <td>28.1</td>\n",
       "      <td>27.5</td>\n",
       "      <td>29.6</td>\n",
       "      <td>29.1</td>\n",
       "      <td>31.4</td>\n",
       "      <td>33.8</td>\n",
       "      <td>36.4</td>\n",
       "      <td>40.5</td>\n",
       "      <td>49.0</td>\n",
       "      <td>1</td>\n",
       "    </tr>\n",
       "  </tbody>\n",
       "</table>\n",
       "</div>"
      ],
      "text/plain": [
       "         country  1988  1989  1990  1991  1992  1993  1994  1995  1996  1997  \\\n",
       "35      Colombia  16.3  18.0  20.6  21.3  17.7  16.4  15.0  14.5  15.2  14.8   \n",
       "49       Ecuador  19.0  20.3  22.8  23.7  24.1  20.0  20.3  21.3  22.3  21.5   \n",
       "119  New Zealand  26.0  26.2  26.7  29.2  31.2  30.6  30.9  29.4  28.3  28.3   \n",
       "132  Philippines  28.4  28.1  27.5  29.6  29.1  31.4  33.8  36.4  40.5  49.0   \n",
       "\n",
       "     APEC  \n",
       "35      0  \n",
       "49      0  \n",
       "119     1  \n",
       "132     1  "
      ]
     },
     "execution_count": 18,
     "metadata": {},
     "output_type": "execute_result"
    }
   ],
   "source": [
    "dados_comparativos_exp=dados_exp[(dados_exp.APEC==1) | (dados_exp.country=='Colombia') | (dados_exp.country=='Ecuador')]\n",
    "\n",
    "dados_comparativos_exp2=dados_comparativos_exp.loc[(dados_comparativos_exp.country=='Colombia') | (dados_comparativos_exp.country=='Ecuador') | (dados_comparativos_exp.country=='New Zealand') | (dados_comparativos_exp.country=='Philippines') , ['country',1988,1989,1990,1991,1992,1993,1994,1995,1996,1997,'APEC']]\n",
    "dados_comparativos_exp2"
   ]
  },
  {
   "cell_type": "markdown",
   "metadata": {},
   "source": [
    "#### Retirando a coluna da APEC"
   ]
  },
  {
   "cell_type": "code",
   "execution_count": 19,
   "metadata": {},
   "outputs": [
    {
     "data": {
      "text/html": [
       "<div>\n",
       "<style scoped>\n",
       "    .dataframe tbody tr th:only-of-type {\n",
       "        vertical-align: middle;\n",
       "    }\n",
       "\n",
       "    .dataframe tbody tr th {\n",
       "        vertical-align: top;\n",
       "    }\n",
       "\n",
       "    .dataframe thead th {\n",
       "        text-align: right;\n",
       "    }\n",
       "</style>\n",
       "<table border=\"1\" class=\"dataframe\">\n",
       "  <thead>\n",
       "    <tr style=\"text-align: right;\">\n",
       "      <th></th>\n",
       "      <th>country</th>\n",
       "      <th>1988</th>\n",
       "      <th>1989</th>\n",
       "      <th>1990</th>\n",
       "      <th>1991</th>\n",
       "      <th>1992</th>\n",
       "      <th>1993</th>\n",
       "      <th>1994</th>\n",
       "      <th>1995</th>\n",
       "      <th>1996</th>\n",
       "      <th>1997</th>\n",
       "    </tr>\n",
       "  </thead>\n",
       "  <tbody>\n",
       "    <tr>\n",
       "      <th>35</th>\n",
       "      <td>Colombia</td>\n",
       "      <td>16.3</td>\n",
       "      <td>18.0</td>\n",
       "      <td>20.6</td>\n",
       "      <td>21.3</td>\n",
       "      <td>17.7</td>\n",
       "      <td>16.4</td>\n",
       "      <td>15.0</td>\n",
       "      <td>14.5</td>\n",
       "      <td>15.2</td>\n",
       "      <td>14.8</td>\n",
       "    </tr>\n",
       "    <tr>\n",
       "      <th>49</th>\n",
       "      <td>Ecuador</td>\n",
       "      <td>19.0</td>\n",
       "      <td>20.3</td>\n",
       "      <td>22.8</td>\n",
       "      <td>23.7</td>\n",
       "      <td>24.1</td>\n",
       "      <td>20.0</td>\n",
       "      <td>20.3</td>\n",
       "      <td>21.3</td>\n",
       "      <td>22.3</td>\n",
       "      <td>21.5</td>\n",
       "    </tr>\n",
       "    <tr>\n",
       "      <th>119</th>\n",
       "      <td>New Zealand</td>\n",
       "      <td>26.0</td>\n",
       "      <td>26.2</td>\n",
       "      <td>26.7</td>\n",
       "      <td>29.2</td>\n",
       "      <td>31.2</td>\n",
       "      <td>30.6</td>\n",
       "      <td>30.9</td>\n",
       "      <td>29.4</td>\n",
       "      <td>28.3</td>\n",
       "      <td>28.3</td>\n",
       "    </tr>\n",
       "    <tr>\n",
       "      <th>132</th>\n",
       "      <td>Philippines</td>\n",
       "      <td>28.4</td>\n",
       "      <td>28.1</td>\n",
       "      <td>27.5</td>\n",
       "      <td>29.6</td>\n",
       "      <td>29.1</td>\n",
       "      <td>31.4</td>\n",
       "      <td>33.8</td>\n",
       "      <td>36.4</td>\n",
       "      <td>40.5</td>\n",
       "      <td>49.0</td>\n",
       "    </tr>\n",
       "  </tbody>\n",
       "</table>\n",
       "</div>"
      ],
      "text/plain": [
       "         country  1988  1989  1990  1991  1992  1993  1994  1995  1996  1997\n",
       "35      Colombia  16.3  18.0  20.6  21.3  17.7  16.4  15.0  14.5  15.2  14.8\n",
       "49       Ecuador  19.0  20.3  22.8  23.7  24.1  20.0  20.3  21.3  22.3  21.5\n",
       "119  New Zealand  26.0  26.2  26.7  29.2  31.2  30.6  30.9  29.4  28.3  28.3\n",
       "132  Philippines  28.4  28.1  27.5  29.6  29.1  31.4  33.8  36.4  40.5  49.0"
      ]
     },
     "execution_count": 19,
     "metadata": {},
     "output_type": "execute_result"
    }
   ],
   "source": [
    "dados_comparativos_exp2=dados_comparativos_exp.loc[(dados_comparativos_exp.country=='Colombia') | (dados_comparativos_exp.country=='Ecuador') | (dados_comparativos_exp.country=='New Zealand') | (dados_comparativos_exp.country=='Philippines') , ['country',1988,1989,1990,1991,1992,1993,1994,1995,1996,1997]]\n",
    "dados_comparativos_exp2"
   ]
  },
  {
   "cell_type": "markdown",
   "metadata": {},
   "source": [
    "## Gráfico de colunas comparandos a evolução dos países membros com os países que não são membros"
   ]
  },
  {
   "cell_type": "code",
   "execution_count": 23,
   "metadata": {},
   "outputs": [
    {
     "data": {
      "text/plain": [
       "<Figure size 2160x2160 with 0 Axes>"
      ]
     },
     "execution_count": 23,
     "metadata": {},
     "output_type": "execute_result"
    },
    {
     "data": {
      "image/png": "[encoded data removed]",
      "text/plain": [
       "<Figure size 432x288 with 1 Axes>"
      ]
     },
     "metadata": {
      "needs_background": "light"
     },
     "output_type": "display_data"
    },
    {
     "data": {
      "text/plain": [
       "<Figure size 2160x2160 with 0 Axes>"
      ]
     },
     "metadata": {},
     "output_type": "display_data"
    },
    {
     "data": {
      "image/png": "[encoded data removed]",
      "text/plain": [
       "<Figure size 432x288 with 1 Axes>"
      ]
     },
     "metadata": {
      "needs_background": "light"
     },
     "output_type": "display_data"
    },
    {
     "data": {
      "text/plain": [
       "<Figure size 2160x2160 with 0 Axes>"
      ]
     },
     "metadata": {},
     "output_type": "display_data"
    }
   ],
   "source": [
    "dados_comparativos_exp2.plot.bar()\n",
    "plt.title('Exportação')\n",
    "plt.xlabel('Países')\n",
    "plt.ylabel('% of GDP')\n",
    "plt.figure(figsize=(30, 30))\n",
    "\n",
    "dados_comparativos_imp2.plot.bar()\n",
    "plt.title('Importação')\n",
    "plt.xlabel('Países')\n",
    "plt.ylabel('% of GDP')\n",
    "plt.figure(figsize=(30, 30))"
   ]
  },
  {
   "cell_type": "markdown",
   "metadata": {},
   "source": [
    "Os gráficos mostram que os países membros possuem um maior aumento das exportações e importações comparando com países do mesmo porte que não são membros"
   ]
  },
  {
   "cell_type": "markdown",
   "metadata": {},
   "source": [
    "## Conclusão"
   ]
  },
  {
   "cell_type": "markdown",
   "metadata": {},
   "source": [
    "Com toda a análise feita com os dados de importação e exportação é possível responder à pergunta:\"Países que entram na APEC aumentam significativamente a quantidade de importações e exportações?\"\n",
    "Como pôde ser observado, as importações e exportações realmente aumentam após a entrada dos países na APEC e possúi grande influência na economia dos países membros."
   ]
  }
 ],
 "metadata": {
  "kernelspec": {
   "display_name": "Python 3",
   "language": "python",
   "name": "python3"
  },
  "language_info": {
   "codemirror_mode": {
    "name": "ipython",
    "version": 3
   },
   "file_extension": ".py",
   "mimetype": "text/x-python",
   "name": "python",
   "nbconvert_exporter": "python",
   "pygments_lexer": "ipython3",
   "version": "3.7.3"
  }
 },
 "nbformat": 4,
 "nbformat_minor": 2
}
